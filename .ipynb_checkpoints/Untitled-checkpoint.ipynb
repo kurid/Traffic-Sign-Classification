{
 "cells": [
  {
   "cell_type": "code",
   "execution_count": 56,
   "metadata": {
    "collapsed": true
   },
   "outputs": [],
   "source": [
    "from sklearn import svm\n",
    "import cPickle"
   ]
  },
  {
   "cell_type": "code",
   "execution_count": 43,
   "metadata": {
    "collapsed": true
   },
   "outputs": [],
   "source": [
    "X = [[0, 0], [0, 1], [0, 2], [0, 3], [1, 0]]\n",
    "Y = [\"kata\",\"kata\",\"kata\",\"kata\",\"lomi\",]\n",
    "\n",
    "X1 = [ [1, 1], [1, 2], [1, 3], [4, 4]]\n",
    "Y1 = [ \"lomi\", \"lomi\", \"lomi\", \"niangi\"]"
   ]
  },
  {
   "cell_type": "code",
   "execution_count": 52,
   "metadata": {
    "collapsed": true
   },
   "outputs": [],
   "source": [
    "clf = svm.SVC(decision_function_shape='ovo')\n",
    "clf.fit(X, Y)\n",
    "clf.fit(X1, Y1)\n",
    "clf.decision_function_shape = \"ovr\""
   ]
  },
  {
   "cell_type": "code",
   "execution_count": 54,
   "metadata": {
    "collapsed": true
   },
   "outputs": [],
   "source": [
    "with open('my_dumped_classifier.pkl', 'wb') as fid:\n",
    "    cPickle.dump(clf, fid)"
   ]
  },
  {
   "cell_type": "code",
   "execution_count": 61,
   "metadata": {},
   "outputs": [
    {
     "data": {
      "text/plain": [
       "array(['lomi'], \n",
       "      dtype='|S6')"
      ]
     },
     "execution_count": 61,
     "metadata": {},
     "output_type": "execute_result"
    }
   ],
   "source": [
    "with open('my_dumped_classifier.pkl', 'rb') as fid:\n",
    "    gnb_loaded = cPickle.load(fid)\n",
    "\n",
    "gnb_loaded.predict([[1, 5]])"
   ]
  },
  {
   "cell_type": "code",
   "execution_count": 46,
   "metadata": {},
   "outputs": [
    {
     "data": {
      "text/plain": [
       "array(['lomi'], \n",
       "      dtype='|S6')"
      ]
     },
     "execution_count": 46,
     "metadata": {},
     "output_type": "execute_result"
    }
   ],
   "source": [
    "clf.predict([[0, 10]])"
   ]
  }
 ],
 "metadata": {
  "kernelspec": {
   "display_name": "Python 2",
   "language": "python",
   "name": "python2"
  },
  "language_info": {
   "codemirror_mode": {
    "name": "ipython",
    "version": 2
   },
   "file_extension": ".py",
   "mimetype": "text/x-python",
   "name": "python",
   "nbconvert_exporter": "python",
   "pygments_lexer": "ipython2",
   "version": "2.7.12"
  }
 },
 "nbformat": 4,
 "nbformat_minor": 2
}
